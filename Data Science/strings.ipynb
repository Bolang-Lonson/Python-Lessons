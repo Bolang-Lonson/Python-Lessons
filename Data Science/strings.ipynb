{
 "cells": [
  {
   "cell_type": "code",
   "execution_count": 2,
   "id": "d193fef4-e77c-4bea-b34e-0de8e69f1404",
   "metadata": {},
   "outputs": [
    {
     "data": {
      "text/plain": [
       "'Lonson'"
      ]
     },
     "execution_count": 2,
     "metadata": {},
     "output_type": "execute_result"
    }
   ],
   "source": [
    "'Lonson'"
   ]
  },
  {
   "cell_type": "code",
   "execution_count": null,
   "id": "c6618686-0b31-48a7-95ec-2a07dc5ccd7c",
   "metadata": {},
   "outputs": [],
   "source": [
    "print(\"Lonson\")"
   ]
  },
  {
   "cell_type": "code",
   "execution_count": null,
   "id": "24b7263f-95ef-4255-9e02-2ba6d2a1610c",
   "metadata": {},
   "outputs": [],
   "source": [
    "name = \"Bolang\""
   ]
  },
  {
   "cell_type": "code",
   "execution_count": null,
   "id": "b45a74a0-007f-46a1-addf-449f75a97299",
   "metadata": {},
   "outputs": [],
   "source": [
    "name"
   ]
  },
  {
   "cell_type": "code",
   "execution_count": null,
   "id": "d5de55d1-7f63-4311-b6a8-e0ec1f95a422",
   "metadata": {},
   "outputs": [],
   "source": [
    "bal = 1000\n",
    "print(bal, 'dollars')"
   ]
  },
  {
   "cell_type": "code",
   "execution_count": null,
   "id": "0f2e0d08-1090-4e17-9e34-a2e33cd4da2f",
   "metadata": {},
   "outputs": [],
   "source": [
    "'$' + str(10)"
   ]
  },
  {
   "cell_type": "code",
   "execution_count": null,
   "id": "775b909b-82db-47f2-a2f1-e505edbf85ba",
   "metadata": {},
   "outputs": [],
   "source": [
    "print('yellow' 'teeth')"
   ]
  },
  {
   "cell_type": "code",
   "execution_count": null,
   "id": "7d6a6172-40f9-4a90-a740-941220757845",
   "metadata": {},
   "outputs": [],
   "source": [
    "'yellow' 'teeth'"
   ]
  },
  {
   "cell_type": "code",
   "execution_count": null,
   "id": "5d208e8f-e29b-4867-9dc6-e7009510d0a5",
   "metadata": {},
   "outputs": [],
   "source": [
    "'yellow ' 'teeth'"
   ]
  },
  {
   "cell_type": "code",
   "execution_count": null,
   "id": "8725b799-ecb4-4536-ac6c-bc861c738c3e",
   "metadata": {},
   "outputs": [],
   "source": [
    "name"
   ]
  },
  {
   "cell_type": "code",
   "execution_count": null,
   "id": "919db96d-7cc7-4e98-81cc-1a0e3e303751",
   "metadata": {},
   "outputs": [],
   "source": [
    "surname = 'Nfi'\n",
    "name surname"
   ]
  },
  {
   "cell_type": "code",
   "execution_count": null,
   "id": "0e900377-eb4c-4f91-ba6a-1ce0ddf5d15d",
   "metadata": {},
   "outputs": [],
   "source": [
    "print(name surname)"
   ]
  },
  {
   "cell_type": "code",
   "execution_count": null,
   "id": "b76b73df-e677-4572-a3b6-7b2c3daeb60c",
   "metadata": {},
   "outputs": [],
   "source": [
    "print(name, surname)"
   ]
  },
  {
   "cell_type": "code",
   "execution_count": null,
   "id": "e75a8d20-a804-420b-8223-207c04931c4b",
   "metadata": {},
   "outputs": [],
   "source": [
    "surname = 'Nfi'"
   ]
  },
  {
   "cell_type": "code",
   "execution_count": null,
   "id": "2258612e-f50a-47fc-add2-6f0499abead2",
   "metadata": {},
   "outputs": [],
   "source": [
    "print(name, surname)"
   ]
  },
  {
   "cell_type": "code",
   "execution_count": null,
   "id": "5ff69a0d-d6b2-42ed-bab6-121083db7f0b",
   "metadata": {},
   "outputs": [],
   "source": [
    "name surname"
   ]
  },
  {
   "cell_type": "code",
   "execution_count": null,
   "id": "62136a93-6136-4fc2-b03b-9336933e3027",
   "metadata": {},
   "outputs": [],
   "source": [
    "name, surname"
   ]
  },
  {
   "cell_type": "code",
   "execution_count": null,
   "id": "8449602a-cdba-4b33-a9be-612f75de6767",
   "metadata": {},
   "outputs": [],
   "source": [
    "name + surname"
   ]
  },
  {
   "cell_type": "code",
   "execution_count": null,
   "id": "9d1e127c-330d-4bf4-9641-bb8c7e7c2da1",
   "metadata": {},
   "outputs": [],
   "source": [
    "name"
   ]
  },
  {
   "cell_type": "code",
   "execution_count": null,
   "id": "7578d2cb",
   "metadata": {},
   "outputs": [],
   "source": []
  }
 ],
 "metadata": {
  "kernelspec": {
   "display_name": "Python [conda env:base] *",
   "language": "python",
   "name": "conda-base-py"
  },
  "language_info": {
   "codemirror_mode": {
    "name": "ipython",
    "version": 3
   },
   "file_extension": ".py",
   "mimetype": "text/x-python",
   "name": "python",
   "nbconvert_exporter": "python",
   "pygments_lexer": "ipython3",
   "version": "3.12.7"
  }
 },
 "nbformat": 4,
 "nbformat_minor": 5
}
