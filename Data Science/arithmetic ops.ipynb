{
 "cells": [
  {
   "cell_type": "code",
   "execution_count": 3,
   "id": "2383bfef-384b-49a4-b817-641198ccd2a3",
   "metadata": {},
   "outputs": [
    {
     "data": {
      "text/plain": [
       "1.1666666666666667"
      ]
     },
     "execution_count": 3,
     "metadata": {},
     "output_type": "execute_result"
    }
   ],
   "source": [
    "7/6"
   ]
  },
  {
   "cell_type": "code",
   "execution_count": 4,
   "id": "4007012a-e407-43e2-ba60-01d8636a07f5",
   "metadata": {},
   "outputs": [
    {
     "data": {
      "text/plain": [
       "1"
      ]
     },
     "execution_count": 4,
     "metadata": {},
     "output_type": "execute_result"
    }
   ],
   "source": [
    "3//2"
   ]
  },
  {
   "cell_type": "code",
   "execution_count": 5,
   "id": "a4e1a03a-d644-4444-bbb8-1bf0b0e80fb0",
   "metadata": {},
   "outputs": [
    {
     "data": {
      "text/plain": [
       "1.5"
      ]
     },
     "execution_count": 5,
     "metadata": {},
     "output_type": "execute_result"
    }
   ],
   "source": [
    "3/2"
   ]
  },
  {
   "cell_type": "code",
   "execution_count": 6,
   "id": "ec7cd967-6f09-4682-946a-4f9fa82c58ad",
   "metadata": {},
   "outputs": [
    {
     "data": {
      "text/plain": [
       "1.5"
      ]
     },
     "execution_count": 6,
     "metadata": {},
     "output_type": "execute_result"
    }
   ],
   "source": [
    "3.0/2"
   ]
  },
  {
   "cell_type": "code",
   "execution_count": 7,
   "id": "e9116cc0-e90d-42f7-9606-1e402f3d64f3",
   "metadata": {},
   "outputs": [
    {
     "data": {
      "text/plain": [
       "1.5"
      ]
     },
     "execution_count": 7,
     "metadata": {},
     "output_type": "execute_result"
    }
   ],
   "source": [
    "3/2"
   ]
  },
  {
   "cell_type": "code",
   "execution_count": 1,
   "id": "beca6a91-552f-41cd-9200-210a8824b875",
   "metadata": {},
   "outputs": [
    {
     "data": {
      "text/plain": [
       "1"
      ]
     },
     "execution_count": 1,
     "metadata": {},
     "output_type": "execute_result"
    }
   ],
   "source": [
    "16 % 3"
   ]
  },
  {
   "cell_type": "code",
   "execution_count": 3,
   "id": "96a14027",
   "metadata": {},
   "outputs": [
    {
     "name": "stdout",
     "output_type": "stream",
     "text": [
      "Year is not leap\n"
     ]
    }
   ],
   "source": [
    "year = 2025\n",
    "if (year % 4) == 0:\n",
    "    print(\"Year is leap\")\n",
    "else:\n",
    "    print(\"Year is not leap\")"
   ]
  },
  {
   "cell_type": "code",
   "execution_count": 8,
   "id": "a58bbab8",
   "metadata": {},
   "outputs": [],
   "source": [
    "y = 5 ** 3"
   ]
  },
  {
   "cell_type": "code",
   "execution_count": 9,
   "id": "5d9b3f3e-d545-4ba7-995a-12b81176361c",
   "metadata": {},
   "outputs": [
    {
     "data": {
      "text/plain": [
       "125"
      ]
     },
     "execution_count": 9,
     "metadata": {},
     "output_type": "execute_result"
    }
   ],
   "source": [
    "y"
   ]
  },
  {
   "cell_type": "code",
   "execution_count": 6,
   "id": "5a7c2a7f-5f4c-4535-9041-231264786298",
   "metadata": {},
   "outputs": [
    {
     "data": {
      "text/plain": [
       "True"
      ]
     },
     "execution_count": 6,
     "metadata": {},
     "output_type": "execute_result"
    }
   ],
   "source": [
    "100 == 100"
   ]
  },
  {
   "cell_type": "code",
   "execution_count": 7,
   "id": "6f2943bc",
   "metadata": {},
   "outputs": [
    {
     "data": {
      "text/plain": [
       "False"
      ]
     },
     "execution_count": 7,
     "metadata": {},
     "output_type": "execute_result"
    }
   ],
   "source": [
    "class Obj:\n",
    "    pass\n",
    "\n",
    "o1, o2 = Obj(), Obj()\n",
    "o1 is o2"
   ]
  },
  {
   "cell_type": "code",
   "execution_count": 8,
   "id": "cbe1a8a0",
   "metadata": {},
   "outputs": [
    {
     "data": {
      "text/plain": [
       "False"
      ]
     },
     "execution_count": 8,
     "metadata": {},
     "output_type": "execute_result"
    }
   ],
   "source": [
    "o1 == o2"
   ]
  },
  {
   "cell_type": "code",
   "execution_count": 9,
   "id": "10c55c83",
   "metadata": {},
   "outputs": [
    {
     "data": {
      "text/plain": [
       "True"
      ]
     },
     "execution_count": 9,
     "metadata": {},
     "output_type": "execute_result"
    }
   ],
   "source": [
    "o3 = o1\n",
    "o3 is o1\n",
    "o3 == o1"
   ]
  },
  {
   "cell_type": "code",
   "execution_count": 10,
   "id": "22538c1b",
   "metadata": {},
   "outputs": [
    {
     "data": {
      "text/plain": [
       "True"
      ]
     },
     "execution_count": 10,
     "metadata": {},
     "output_type": "execute_result"
    }
   ],
   "source": [
    "o3 is o1"
   ]
  },
  {
   "cell_type": "code",
   "execution_count": 11,
   "id": "d21d750f",
   "metadata": {},
   "outputs": [
    {
     "data": {
      "text/plain": [
       "True"
      ]
     },
     "execution_count": 11,
     "metadata": {},
     "output_type": "execute_result"
    }
   ],
   "source": [
    "o3 == o1"
   ]
  },
  {
   "cell_type": "code",
   "execution_count": 12,
   "id": "105f8bbc",
   "metadata": {},
   "outputs": [
    {
     "data": {
      "text/plain": [
       "True"
      ]
     },
     "execution_count": 12,
     "metadata": {},
     "output_type": "execute_result"
    }
   ],
   "source": [
    "o3 is not o2"
   ]
  },
  {
   "cell_type": "code",
   "execution_count": 13,
   "id": "e6f42dbb",
   "metadata": {},
   "outputs": [
    {
     "data": {
      "text/plain": [
       "__main__.Obj"
      ]
     },
     "execution_count": 13,
     "metadata": {},
     "output_type": "execute_result"
    }
   ],
   "source": [
    "type(o2)"
   ]
  },
  {
   "cell_type": "code",
   "execution_count": 14,
   "id": "a1682103",
   "metadata": {},
   "outputs": [
    {
     "name": "stdout",
     "output_type": "stream",
     "text": [
      "<class '__main__.Obj'>\n"
     ]
    }
   ],
   "source": [
    "print(type(o2))"
   ]
  },
  {
   "cell_type": "code",
   "execution_count": 1,
   "id": "1ba870b2",
   "metadata": {},
   "outputs": [],
   "source": [
    "def simple():\n",
    "    print('my first function')"
   ]
  },
  {
   "cell_type": "code",
   "execution_count": 2,
   "id": "eef50a72",
   "metadata": {},
   "outputs": [
    {
     "name": "stdout",
     "output_type": "stream",
     "text": [
      "my first function\n"
     ]
    }
   ],
   "source": [
    "simple()"
   ]
  },
  {
   "cell_type": "code",
   "execution_count": 3,
   "id": "aab93af7",
   "metadata": {},
   "outputs": [
    {
     "data": {
      "text/plain": [
       "0.5"
      ]
     },
     "execution_count": 3,
     "metadata": {},
     "output_type": "execute_result"
    }
   ],
   "source": [
    "1/2"
   ]
  },
  {
   "cell_type": "code",
   "execution_count": 4,
   "id": "7c17961c",
   "metadata": {},
   "outputs": [
    {
     "data": {
      "text/plain": [
       "0"
      ]
     },
     "execution_count": 4,
     "metadata": {},
     "output_type": "execute_result"
    }
   ],
   "source": [
    "1//2"
   ]
  },
  {
   "cell_type": "code",
   "execution_count": 2,
   "id": "7b5d41c8",
   "metadata": {},
   "outputs": [],
   "source": [
    "numbers = [x for x in range(11, 100, 7)]"
   ]
  },
  {
   "cell_type": "code",
   "execution_count": 3,
   "id": "ac3c8be7",
   "metadata": {},
   "outputs": [
    {
     "data": {
      "text/plain": [
       "[11, 18, 25, 32, 39, 46, 53, 60, 67, 74, 81, 88, 95]"
      ]
     },
     "execution_count": 3,
     "metadata": {},
     "output_type": "execute_result"
    }
   ],
   "source": [
    "numbers"
   ]
  },
  {
   "cell_type": "code",
   "execution_count": 4,
   "id": "5f8bff06",
   "metadata": {},
   "outputs": [
    {
     "data": {
      "text/plain": [
       "689"
      ]
     },
     "execution_count": 4,
     "metadata": {},
     "output_type": "execute_result"
    }
   ],
   "source": [
    "sum(numbers)"
   ]
  },
  {
   "cell_type": "code",
   "execution_count": 5,
   "id": "c0579b90",
   "metadata": {},
   "outputs": [
    {
     "data": {
      "text/plain": [
       "[11,\n",
       " 18,\n",
       " 25,\n",
       " 32,\n",
       " 39,\n",
       " 46,\n",
       " 53,\n",
       " 60,\n",
       " 67,\n",
       " 74,\n",
       " 81,\n",
       " 88,\n",
       " 95,\n",
       " 102,\n",
       " 109,\n",
       " 116,\n",
       " 123,\n",
       " 130,\n",
       " 137,\n",
       " 144,\n",
       " 151,\n",
       " 158,\n",
       " 165,\n",
       " 172,\n",
       " 179,\n",
       " 186,\n",
       " 193]"
      ]
     },
     "execution_count": 5,
     "metadata": {},
     "output_type": "execute_result"
    }
   ],
   "source": [
    "numbers.extend([x for x in range(102, 200, 7)])\n",
    "numbers"
   ]
  },
  {
   "cell_type": "code",
   "execution_count": 6,
   "id": "0bcf0f9a",
   "metadata": {},
   "outputs": [
    {
     "ename": "KeyError",
     "evalue": "'coach'",
     "output_type": "error",
     "traceback": [
      "\u001b[0;31m---------------------------------------------------------------------------\u001b[0m",
      "\u001b[0;31mKeyError\u001b[0m                                  Traceback (most recent call last)",
      "Cell \u001b[0;32mIn[6], line 2\u001b[0m\n\u001b[1;32m      1\u001b[0m team \u001b[38;5;241m=\u001b[39m {}\n\u001b[0;32m----> 2\u001b[0m team[\u001b[38;5;124m'\u001b[39m\u001b[38;5;124mcoach\u001b[39m\u001b[38;5;124m'\u001b[39m]\n",
      "\u001b[0;31mKeyError\u001b[0m: 'coach'"
     ]
    }
   ],
   "source": [
    "team = {}\n",
    "team['coach']"
   ]
  },
  {
   "cell_type": "code",
   "execution_count": 7,
   "id": "30c577e4",
   "metadata": {},
   "outputs": [],
   "source": [
    "team.get('coach')"
   ]
  },
  {
   "cell_type": "code",
   "execution_count": 8,
   "id": "56d6f656",
   "metadata": {},
   "outputs": [
    {
     "name": "stdout",
     "output_type": "stream",
     "text": [
      "None\n"
     ]
    }
   ],
   "source": [
    "print(team.get('coach'))"
   ]
  },
  {
   "cell_type": "code",
   "execution_count": null,
   "id": "18928121",
   "metadata": {},
   "outputs": [],
   "source": []
  }
 ],
 "metadata": {
  "kernelspec": {
   "display_name": "Python [conda env:base] *",
   "language": "python",
   "name": "conda-base-py"
  },
  "language_info": {
   "codemirror_mode": {
    "name": "ipython",
    "version": 3
   },
   "file_extension": ".py",
   "mimetype": "text/x-python",
   "name": "python",
   "nbconvert_exporter": "python",
   "pygments_lexer": "ipython3",
   "version": "3.12.7"
  }
 },
 "nbformat": 4,
 "nbformat_minor": 5
}
